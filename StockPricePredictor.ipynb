{
  "nbformat": 4,
  "nbformat_minor": 0,
  "metadata": {
    "colab": {
      "provenance": [],
      "gpuType": "T4",
      "cell_execution_strategy": "setup",
      "authorship_tag": "ABX9TyP/Sj58NWGtD//2ezD2TiY6",
      "include_colab_link": true
    },
    "kernelspec": {
      "name": "python3",
      "display_name": "Python 3"
    },
    "language_info": {
      "name": "python"
    },
    "accelerator": "GPU"
  },
  "cells": [
    {
      "cell_type": "markdown",
      "metadata": {
        "id": "view-in-github",
        "colab_type": "text"
      },
      "source": [
        "<a href=\"https://colab.research.google.com/github/ranajay531/StockPricePredictor/blob/main/StockPricePredictor.ipynb\" target=\"_parent\"><img src=\"https://colab.research.google.com/assets/colab-badge.svg\" alt=\"Open In Colab\"/></a>"
      ]
    },
    {
      "cell_type": "markdown",
      "source": [
        "**Problem**: To predict the closing prices of various stocks"
      ],
      "metadata": {
        "id": "-bC8CbD7uUEi"
      }
    },
    {
      "cell_type": "code",
      "execution_count": null,
      "metadata": {
        "id": "xBnMU-zfq-d_",
        "colab": {
          "base_uri": "https://localhost:8080/"
        },
        "outputId": "6488dd58-a662-49b9-e66a-10be6ac61914"
      },
      "outputs": [
        {
          "output_type": "stream",
          "name": "stdout",
          "text": [
            "Requirement already satisfied: yfinance in /usr/local/lib/python3.10/dist-packages (0.2.35)\n",
            "Requirement already satisfied: pandas>=1.3.0 in /usr/local/lib/python3.10/dist-packages (from yfinance) (1.5.3)\n",
            "Requirement already satisfied: numpy>=1.16.5 in /usr/local/lib/python3.10/dist-packages (from yfinance) (1.23.5)\n",
            "Requirement already satisfied: requests>=2.31 in /usr/local/lib/python3.10/dist-packages (from yfinance) (2.31.0)\n",
            "Requirement already satisfied: multitasking>=0.0.7 in /usr/local/lib/python3.10/dist-packages (from yfinance) (0.0.11)\n",
            "Requirement already satisfied: lxml>=4.9.1 in /usr/local/lib/python3.10/dist-packages (from yfinance) (4.9.4)\n",
            "Requirement already satisfied: appdirs>=1.4.4 in /usr/local/lib/python3.10/dist-packages (from yfinance) (1.4.4)\n",
            "Requirement already satisfied: pytz>=2022.5 in /usr/local/lib/python3.10/dist-packages (from yfinance) (2023.3.post1)\n",
            "Requirement already satisfied: frozendict>=2.3.4 in /usr/local/lib/python3.10/dist-packages (from yfinance) (2.4.0)\n",
            "Requirement already satisfied: peewee>=3.16.2 in /usr/local/lib/python3.10/dist-packages (from yfinance) (3.17.0)\n",
            "Requirement already satisfied: beautifulsoup4>=4.11.1 in /usr/local/lib/python3.10/dist-packages (from yfinance) (4.11.2)\n",
            "Requirement already satisfied: html5lib>=1.1 in /usr/local/lib/python3.10/dist-packages (from yfinance) (1.1)\n",
            "Requirement already satisfied: soupsieve>1.2 in /usr/local/lib/python3.10/dist-packages (from beautifulsoup4>=4.11.1->yfinance) (2.5)\n",
            "Requirement already satisfied: six>=1.9 in /usr/local/lib/python3.10/dist-packages (from html5lib>=1.1->yfinance) (1.16.0)\n",
            "Requirement already satisfied: webencodings in /usr/local/lib/python3.10/dist-packages (from html5lib>=1.1->yfinance) (0.5.1)\n",
            "Requirement already satisfied: python-dateutil>=2.8.1 in /usr/local/lib/python3.10/dist-packages (from pandas>=1.3.0->yfinance) (2.8.2)\n",
            "Requirement already satisfied: charset-normalizer<4,>=2 in /usr/local/lib/python3.10/dist-packages (from requests>=2.31->yfinance) (3.3.2)\n",
            "Requirement already satisfied: idna<4,>=2.5 in /usr/local/lib/python3.10/dist-packages (from requests>=2.31->yfinance) (3.6)\n",
            "Requirement already satisfied: urllib3<3,>=1.21.1 in /usr/local/lib/python3.10/dist-packages (from requests>=2.31->yfinance) (2.0.7)\n",
            "Requirement already satisfied: certifi>=2017.4.17 in /usr/local/lib/python3.10/dist-packages (from requests>=2.31->yfinance) (2023.11.17)\n"
          ]
        }
      ],
      "source": [
        "# Market data from Yahoo\n",
        "!pip install yfinance\n"
      ]
    },
    {
      "cell_type": "code",
      "source": [
        "# Importing libraries\n",
        "import pandas as pd\n",
        "import numpy as np\n",
        "import matplotlib.pyplot as plt\n",
        "import seaborn as sns\n",
        "\n",
        "# Importing deep learning libraries\n",
        "import tensorflow as tf\n",
        "from tensorflow import keras\n",
        "from keras import Input\n",
        "from keras.models import Sequential\n",
        "from keras.layers import Dense, Dropout, SimpleRNN, LSTM, GRU\n",
        "\n",
        "# Importing other libraries\n",
        "import yfinance as yf # Yfinance will provide an API to access the current stock market data\n",
        "from sklearn.model_selection import train_test_split # Machine Learning Library for classical ML\n",
        "\n",
        "%matplotlib inline"
      ],
      "metadata": {
        "id": "GgsKgx_3rO0e"
      },
      "execution_count": null,
      "outputs": []
    },
    {
      "cell_type": "code",
      "source": [
        "# Getting data\n",
        "company = 'GOOG' # ** CHANGE FOR DIFFERENT COMPANY STOCKS **\n",
        "stock_data = yf.Ticker(company)\n",
        "\n",
        "# Getting stock history (all daily stock data)\n",
        "stock_history = stock_data.history(period='max',interval='1d')\n",
        "\n",
        "# Looking at what the data is\n",
        "stock_history"
      ],
      "metadata": {
        "id": "r9-Tw9UYrn1H",
        "colab": {
          "base_uri": "https://localhost:8080/",
          "height": 455
        },
        "outputId": "15ea488f-24a6-4fee-bb6f-d00171c4c945"
      },
      "execution_count": null,
      "outputs": [
        {
          "output_type": "execute_result",
          "data": {
            "text/plain": [
              "                                 Open        High         Low       Close  \\\n",
              "Date                                                                        \n",
              "2004-08-19 00:00:00-04:00    2.490664    2.591785    2.390042    2.499133   \n",
              "2004-08-20 00:00:00-04:00    2.515820    2.716817    2.503118    2.697639   \n",
              "2004-08-23 00:00:00-04:00    2.758411    2.826406    2.716070    2.724787   \n",
              "2004-08-24 00:00:00-04:00    2.770615    2.779581    2.579581    2.611960   \n",
              "2004-08-25 00:00:00-04:00    2.614201    2.689918    2.587302    2.640104   \n",
              "...                               ...         ...         ...         ...   \n",
              "2024-01-12 00:00:00-05:00  144.339996  144.740005  143.360001  144.240005   \n",
              "2024-01-16 00:00:00-05:00  143.429993  145.839996  143.056000  144.080002   \n",
              "2024-01-17 00:00:00-05:00  142.910004  143.410004  140.509995  142.889999   \n",
              "2024-01-18 00:00:00-05:00  143.440002  145.585007  143.350006  144.990005   \n",
              "2024-01-19 00:00:00-05:00  146.304993  148.039993  145.800003  147.970001   \n",
              "\n",
              "                              Volume  Dividends  Stock Splits  \n",
              "Date                                                           \n",
              "2004-08-19 00:00:00-04:00  897427216        0.0           0.0  \n",
              "2004-08-20 00:00:00-04:00  458857488        0.0           0.0  \n",
              "2004-08-23 00:00:00-04:00  366857939        0.0           0.0  \n",
              "2004-08-24 00:00:00-04:00  306396159        0.0           0.0  \n",
              "2004-08-25 00:00:00-04:00  184645512        0.0           0.0  \n",
              "...                              ...        ...           ...  \n",
              "2024-01-12 00:00:00-05:00   13995200        0.0           0.0  \n",
              "2024-01-16 00:00:00-05:00   19198900        0.0           0.0  \n",
              "2024-01-17 00:00:00-05:00   17884500        0.0           0.0  \n",
              "2024-01-18 00:00:00-05:00   18876800        0.0           0.0  \n",
              "2024-01-19 00:00:00-05:00   27170900        0.0           0.0  \n",
              "\n",
              "[4888 rows x 7 columns]"
            ],
            "text/html": [
              "\n",
              "  <div id=\"df-e83f6720-4d21-4ab2-9536-2c51462300d3\" class=\"colab-df-container\">\n",
              "    <div>\n",
              "<style scoped>\n",
              "    .dataframe tbody tr th:only-of-type {\n",
              "        vertical-align: middle;\n",
              "    }\n",
              "\n",
              "    .dataframe tbody tr th {\n",
              "        vertical-align: top;\n",
              "    }\n",
              "\n",
              "    .dataframe thead th {\n",
              "        text-align: right;\n",
              "    }\n",
              "</style>\n",
              "<table border=\"1\" class=\"dataframe\">\n",
              "  <thead>\n",
              "    <tr style=\"text-align: right;\">\n",
              "      <th></th>\n",
              "      <th>Open</th>\n",
              "      <th>High</th>\n",
              "      <th>Low</th>\n",
              "      <th>Close</th>\n",
              "      <th>Volume</th>\n",
              "      <th>Dividends</th>\n",
              "      <th>Stock Splits</th>\n",
              "    </tr>\n",
              "    <tr>\n",
              "      <th>Date</th>\n",
              "      <th></th>\n",
              "      <th></th>\n",
              "      <th></th>\n",
              "      <th></th>\n",
              "      <th></th>\n",
              "      <th></th>\n",
              "      <th></th>\n",
              "    </tr>\n",
              "  </thead>\n",
              "  <tbody>\n",
              "    <tr>\n",
              "      <th>2004-08-19 00:00:00-04:00</th>\n",
              "      <td>2.490664</td>\n",
              "      <td>2.591785</td>\n",
              "      <td>2.390042</td>\n",
              "      <td>2.499133</td>\n",
              "      <td>897427216</td>\n",
              "      <td>0.0</td>\n",
              "      <td>0.0</td>\n",
              "    </tr>\n",
              "    <tr>\n",
              "      <th>2004-08-20 00:00:00-04:00</th>\n",
              "      <td>2.515820</td>\n",
              "      <td>2.716817</td>\n",
              "      <td>2.503118</td>\n",
              "      <td>2.697639</td>\n",
              "      <td>458857488</td>\n",
              "      <td>0.0</td>\n",
              "      <td>0.0</td>\n",
              "    </tr>\n",
              "    <tr>\n",
              "      <th>2004-08-23 00:00:00-04:00</th>\n",
              "      <td>2.758411</td>\n",
              "      <td>2.826406</td>\n",
              "      <td>2.716070</td>\n",
              "      <td>2.724787</td>\n",
              "      <td>366857939</td>\n",
              "      <td>0.0</td>\n",
              "      <td>0.0</td>\n",
              "    </tr>\n",
              "    <tr>\n",
              "      <th>2004-08-24 00:00:00-04:00</th>\n",
              "      <td>2.770615</td>\n",
              "      <td>2.779581</td>\n",
              "      <td>2.579581</td>\n",
              "      <td>2.611960</td>\n",
              "      <td>306396159</td>\n",
              "      <td>0.0</td>\n",
              "      <td>0.0</td>\n",
              "    </tr>\n",
              "    <tr>\n",
              "      <th>2004-08-25 00:00:00-04:00</th>\n",
              "      <td>2.614201</td>\n",
              "      <td>2.689918</td>\n",
              "      <td>2.587302</td>\n",
              "      <td>2.640104</td>\n",
              "      <td>184645512</td>\n",
              "      <td>0.0</td>\n",
              "      <td>0.0</td>\n",
              "    </tr>\n",
              "    <tr>\n",
              "      <th>...</th>\n",
              "      <td>...</td>\n",
              "      <td>...</td>\n",
              "      <td>...</td>\n",
              "      <td>...</td>\n",
              "      <td>...</td>\n",
              "      <td>...</td>\n",
              "      <td>...</td>\n",
              "    </tr>\n",
              "    <tr>\n",
              "      <th>2024-01-12 00:00:00-05:00</th>\n",
              "      <td>144.339996</td>\n",
              "      <td>144.740005</td>\n",
              "      <td>143.360001</td>\n",
              "      <td>144.240005</td>\n",
              "      <td>13995200</td>\n",
              "      <td>0.0</td>\n",
              "      <td>0.0</td>\n",
              "    </tr>\n",
              "    <tr>\n",
              "      <th>2024-01-16 00:00:00-05:00</th>\n",
              "      <td>143.429993</td>\n",
              "      <td>145.839996</td>\n",
              "      <td>143.056000</td>\n",
              "      <td>144.080002</td>\n",
              "      <td>19198900</td>\n",
              "      <td>0.0</td>\n",
              "      <td>0.0</td>\n",
              "    </tr>\n",
              "    <tr>\n",
              "      <th>2024-01-17 00:00:00-05:00</th>\n",
              "      <td>142.910004</td>\n",
              "      <td>143.410004</td>\n",
              "      <td>140.509995</td>\n",
              "      <td>142.889999</td>\n",
              "      <td>17884500</td>\n",
              "      <td>0.0</td>\n",
              "      <td>0.0</td>\n",
              "    </tr>\n",
              "    <tr>\n",
              "      <th>2024-01-18 00:00:00-05:00</th>\n",
              "      <td>143.440002</td>\n",
              "      <td>145.585007</td>\n",
              "      <td>143.350006</td>\n",
              "      <td>144.990005</td>\n",
              "      <td>18876800</td>\n",
              "      <td>0.0</td>\n",
              "      <td>0.0</td>\n",
              "    </tr>\n",
              "    <tr>\n",
              "      <th>2024-01-19 00:00:00-05:00</th>\n",
              "      <td>146.304993</td>\n",
              "      <td>148.039993</td>\n",
              "      <td>145.800003</td>\n",
              "      <td>147.970001</td>\n",
              "      <td>27170900</td>\n",
              "      <td>0.0</td>\n",
              "      <td>0.0</td>\n",
              "    </tr>\n",
              "  </tbody>\n",
              "</table>\n",
              "<p>4888 rows × 7 columns</p>\n",
              "</div>\n",
              "    <div class=\"colab-df-buttons\">\n",
              "\n",
              "  <div class=\"colab-df-container\">\n",
              "    <button class=\"colab-df-convert\" onclick=\"convertToInteractive('df-e83f6720-4d21-4ab2-9536-2c51462300d3')\"\n",
              "            title=\"Convert this dataframe to an interactive table.\"\n",
              "            style=\"display:none;\">\n",
              "\n",
              "  <svg xmlns=\"http://www.w3.org/2000/svg\" height=\"24px\" viewBox=\"0 -960 960 960\">\n",
              "    <path d=\"M120-120v-720h720v720H120Zm60-500h600v-160H180v160Zm220 220h160v-160H400v160Zm0 220h160v-160H400v160ZM180-400h160v-160H180v160Zm440 0h160v-160H620v160ZM180-180h160v-160H180v160Zm440 0h160v-160H620v160Z\"/>\n",
              "  </svg>\n",
              "    </button>\n",
              "\n",
              "  <style>\n",
              "    .colab-df-container {\n",
              "      display:flex;\n",
              "      gap: 12px;\n",
              "    }\n",
              "\n",
              "    .colab-df-convert {\n",
              "      background-color: #E8F0FE;\n",
              "      border: none;\n",
              "      border-radius: 50%;\n",
              "      cursor: pointer;\n",
              "      display: none;\n",
              "      fill: #1967D2;\n",
              "      height: 32px;\n",
              "      padding: 0 0 0 0;\n",
              "      width: 32px;\n",
              "    }\n",
              "\n",
              "    .colab-df-convert:hover {\n",
              "      background-color: #E2EBFA;\n",
              "      box-shadow: 0px 1px 2px rgba(60, 64, 67, 0.3), 0px 1px 3px 1px rgba(60, 64, 67, 0.15);\n",
              "      fill: #174EA6;\n",
              "    }\n",
              "\n",
              "    .colab-df-buttons div {\n",
              "      margin-bottom: 4px;\n",
              "    }\n",
              "\n",
              "    [theme=dark] .colab-df-convert {\n",
              "      background-color: #3B4455;\n",
              "      fill: #D2E3FC;\n",
              "    }\n",
              "\n",
              "    [theme=dark] .colab-df-convert:hover {\n",
              "      background-color: #434B5C;\n",
              "      box-shadow: 0px 1px 3px 1px rgba(0, 0, 0, 0.15);\n",
              "      filter: drop-shadow(0px 1px 2px rgba(0, 0, 0, 0.3));\n",
              "      fill: #FFFFFF;\n",
              "    }\n",
              "  </style>\n",
              "\n",
              "    <script>\n",
              "      const buttonEl =\n",
              "        document.querySelector('#df-e83f6720-4d21-4ab2-9536-2c51462300d3 button.colab-df-convert');\n",
              "      buttonEl.style.display =\n",
              "        google.colab.kernel.accessAllowed ? 'block' : 'none';\n",
              "\n",
              "      async function convertToInteractive(key) {\n",
              "        const element = document.querySelector('#df-e83f6720-4d21-4ab2-9536-2c51462300d3');\n",
              "        const dataTable =\n",
              "          await google.colab.kernel.invokeFunction('convertToInteractive',\n",
              "                                                    [key], {});\n",
              "        if (!dataTable) return;\n",
              "\n",
              "        const docLinkHtml = 'Like what you see? Visit the ' +\n",
              "          '<a target=\"_blank\" href=https://colab.research.google.com/notebooks/data_table.ipynb>data table notebook</a>'\n",
              "          + ' to learn more about interactive tables.';\n",
              "        element.innerHTML = '';\n",
              "        dataTable['output_type'] = 'display_data';\n",
              "        await google.colab.output.renderOutput(dataTable, element);\n",
              "        const docLink = document.createElement('div');\n",
              "        docLink.innerHTML = docLinkHtml;\n",
              "        element.appendChild(docLink);\n",
              "      }\n",
              "    </script>\n",
              "  </div>\n",
              "\n",
              "\n",
              "<div id=\"df-b2c903d0-d3fc-4fcc-a137-17194108d852\">\n",
              "  <button class=\"colab-df-quickchart\" onclick=\"quickchart('df-b2c903d0-d3fc-4fcc-a137-17194108d852')\"\n",
              "            title=\"Suggest charts\"\n",
              "            style=\"display:none;\">\n",
              "\n",
              "<svg xmlns=\"http://www.w3.org/2000/svg\" height=\"24px\"viewBox=\"0 0 24 24\"\n",
              "     width=\"24px\">\n",
              "    <g>\n",
              "        <path d=\"M19 3H5c-1.1 0-2 .9-2 2v14c0 1.1.9 2 2 2h14c1.1 0 2-.9 2-2V5c0-1.1-.9-2-2-2zM9 17H7v-7h2v7zm4 0h-2V7h2v10zm4 0h-2v-4h2v4z\"/>\n",
              "    </g>\n",
              "</svg>\n",
              "  </button>\n",
              "\n",
              "<style>\n",
              "  .colab-df-quickchart {\n",
              "      --bg-color: #E8F0FE;\n",
              "      --fill-color: #1967D2;\n",
              "      --hover-bg-color: #E2EBFA;\n",
              "      --hover-fill-color: #174EA6;\n",
              "      --disabled-fill-color: #AAA;\n",
              "      --disabled-bg-color: #DDD;\n",
              "  }\n",
              "\n",
              "  [theme=dark] .colab-df-quickchart {\n",
              "      --bg-color: #3B4455;\n",
              "      --fill-color: #D2E3FC;\n",
              "      --hover-bg-color: #434B5C;\n",
              "      --hover-fill-color: #FFFFFF;\n",
              "      --disabled-bg-color: #3B4455;\n",
              "      --disabled-fill-color: #666;\n",
              "  }\n",
              "\n",
              "  .colab-df-quickchart {\n",
              "    background-color: var(--bg-color);\n",
              "    border: none;\n",
              "    border-radius: 50%;\n",
              "    cursor: pointer;\n",
              "    display: none;\n",
              "    fill: var(--fill-color);\n",
              "    height: 32px;\n",
              "    padding: 0;\n",
              "    width: 32px;\n",
              "  }\n",
              "\n",
              "  .colab-df-quickchart:hover {\n",
              "    background-color: var(--hover-bg-color);\n",
              "    box-shadow: 0 1px 2px rgba(60, 64, 67, 0.3), 0 1px 3px 1px rgba(60, 64, 67, 0.15);\n",
              "    fill: var(--button-hover-fill-color);\n",
              "  }\n",
              "\n",
              "  .colab-df-quickchart-complete:disabled,\n",
              "  .colab-df-quickchart-complete:disabled:hover {\n",
              "    background-color: var(--disabled-bg-color);\n",
              "    fill: var(--disabled-fill-color);\n",
              "    box-shadow: none;\n",
              "  }\n",
              "\n",
              "  .colab-df-spinner {\n",
              "    border: 2px solid var(--fill-color);\n",
              "    border-color: transparent;\n",
              "    border-bottom-color: var(--fill-color);\n",
              "    animation:\n",
              "      spin 1s steps(1) infinite;\n",
              "  }\n",
              "\n",
              "  @keyframes spin {\n",
              "    0% {\n",
              "      border-color: transparent;\n",
              "      border-bottom-color: var(--fill-color);\n",
              "      border-left-color: var(--fill-color);\n",
              "    }\n",
              "    20% {\n",
              "      border-color: transparent;\n",
              "      border-left-color: var(--fill-color);\n",
              "      border-top-color: var(--fill-color);\n",
              "    }\n",
              "    30% {\n",
              "      border-color: transparent;\n",
              "      border-left-color: var(--fill-color);\n",
              "      border-top-color: var(--fill-color);\n",
              "      border-right-color: var(--fill-color);\n",
              "    }\n",
              "    40% {\n",
              "      border-color: transparent;\n",
              "      border-right-color: var(--fill-color);\n",
              "      border-top-color: var(--fill-color);\n",
              "    }\n",
              "    60% {\n",
              "      border-color: transparent;\n",
              "      border-right-color: var(--fill-color);\n",
              "    }\n",
              "    80% {\n",
              "      border-color: transparent;\n",
              "      border-right-color: var(--fill-color);\n",
              "      border-bottom-color: var(--fill-color);\n",
              "    }\n",
              "    90% {\n",
              "      border-color: transparent;\n",
              "      border-bottom-color: var(--fill-color);\n",
              "    }\n",
              "  }\n",
              "</style>\n",
              "\n",
              "  <script>\n",
              "    async function quickchart(key) {\n",
              "      const quickchartButtonEl =\n",
              "        document.querySelector('#' + key + ' button');\n",
              "      quickchartButtonEl.disabled = true;  // To prevent multiple clicks.\n",
              "      quickchartButtonEl.classList.add('colab-df-spinner');\n",
              "      try {\n",
              "        const charts = await google.colab.kernel.invokeFunction(\n",
              "            'suggestCharts', [key], {});\n",
              "      } catch (error) {\n",
              "        console.error('Error during call to suggestCharts:', error);\n",
              "      }\n",
              "      quickchartButtonEl.classList.remove('colab-df-spinner');\n",
              "      quickchartButtonEl.classList.add('colab-df-quickchart-complete');\n",
              "    }\n",
              "    (() => {\n",
              "      let quickchartButtonEl =\n",
              "        document.querySelector('#df-b2c903d0-d3fc-4fcc-a137-17194108d852 button');\n",
              "      quickchartButtonEl.style.display =\n",
              "        google.colab.kernel.accessAllowed ? 'block' : 'none';\n",
              "    })();\n",
              "  </script>\n",
              "</div>\n",
              "    </div>\n",
              "  </div>\n"
            ]
          },
          "metadata": {},
          "execution_count": 3
        }
      ]
    },
    {
      "cell_type": "code",
      "source": [
        "closing_prices = stock_history['Close']\n",
        "plt.title(f'Closing Price of {company}')\n",
        "plt.xlabel('Date')\n",
        "plt.ylabel('Closing Price')\n",
        "plt.plot(closing_prices)\n",
        "plt.show()"
      ],
      "metadata": {
        "id": "QlfCofoLsHuN",
        "colab": {
          "base_uri": "https://localhost:8080/",
          "height": 472
        },
        "outputId": "312603f0-b80a-4b1a-cce0-00eed7d685b7"
      },
      "execution_count": null,
      "outputs": [
        {
          "output_type": "display_data",
          "data": {
            "text/plain": [
              "<Figure size 640x480 with 1 Axes>"
            ],
            "image/png": "[encoded data removed]"
          },
          "metadata": {}
        }
      ]
    },
    {
      "cell_type": "code",
      "source": [
        "#Setting training and testing Data (80/20 split)\n",
        "training_data, testing_data = train_test_split(stock_history,test_size=0.2,random_state=42,shuffle=True)"
      ],
      "metadata": {
        "id": "7I6fh2Fcscon"
      },
      "execution_count": null,
      "outputs": []
    },
    {
      "cell_type": "code",
      "source": [
        "X_train = training_data.drop(['Close','Volume','Dividends','Stock Splits'],axis=1)\n",
        "y_train = training_data['Close']\n",
        "\n",
        "X_test = testing_data.drop(['Close','Volume','Dividends','Stock Splits'],axis=1)\n",
        "y_test = testing_data['Close']"
      ],
      "metadata": {
        "id": "T-_YB7OislTY"
      },
      "execution_count": null,
      "outputs": []
    },
    {
      "cell_type": "markdown",
      "source": [
        "**Base Model: Artificial Neural Network**"
      ],
      "metadata": {
        "id": "PsDA3dlAuL7M"
      }
    },
    {
      "cell_type": "code",
      "source": [
        "# Building the model\n",
        "ann_model = Sequential()\n",
        "ann_model.add(Dense(25,activation='relu',kernel_initializer='he_normal',bias_initializer='ones',input_shape=(X_train.shape[1],1)))\n",
        "\n",
        "ann_model.add(Dropout(rate=0.2))\n",
        "ann_model.add(Dense(50,activation='relu',kernel_initializer='he_normal',bias_initializer='ones'))\n",
        "ann_model.add(Dropout(rate=0.2))\n",
        "ann_model.add(Dense(25,activation='relu',kernel_initializer='he_normal',bias_initializer='ones'))\n",
        "ann_model.add(Dense(1,activation='relu',kernel_initializer='he_normal',bias_initializer='ones'))\n",
        "\n",
        "ann_model.summary()"
      ],
      "metadata": {
        "id": "FHnZzBy0uKty",
        "colab": {
          "base_uri": "https://localhost:8080/"
        },
        "outputId": "6a2bbdb7-f5f5-42b2-9160-74a50f2f07dd"
      },
      "execution_count": null,
      "outputs": [
        {
          "output_type": "stream",
          "name": "stdout",
          "text": [
            "Model: \"sequential\"\n",
            "_________________________________________________________________\n",
            " Layer (type)                Output Shape              Param #   \n",
            "=================================================================\n",
            " dense (Dense)               (None, 3, 25)             50        \n",
            "                                                                 \n",
            " dropout (Dropout)           (None, 3, 25)             0         \n",
            "                                                                 \n",
            " dense_1 (Dense)             (None, 3, 50)             1300      \n",
            "                                                                 \n",
            " dropout_1 (Dropout)         (None, 3, 50)             0         \n",
            "                                                                 \n",
            " dense_2 (Dense)             (None, 3, 25)             1275      \n",
            "                                                                 \n",
            " dense_3 (Dense)             (None, 3, 1)              26        \n",
            "                                                                 \n",
            "=================================================================\n",
            "Total params: 2651 (10.36 KB)\n",
            "Trainable params: 2651 (10.36 KB)\n",
            "Non-trainable params: 0 (0.00 Byte)\n",
            "_________________________________________________________________\n"
          ]
        }
      ]
    },
    {
      "cell_type": "code",
      "source": [
        "# Training the model\n",
        "optimizer = keras.optimizers.SGD(learning_rate=0.03)\n",
        "loss_function = keras.losses.MeanSquaredError()\n",
        "ann_model.compile(optimizer=optimizer,loss=loss_function)"
      ],
      "metadata": {
        "id": "vYB61ID-ucEt"
      },
      "execution_count": null,
      "outputs": []
    },
    {
      "cell_type": "code",
      "source": [
        "# Model training\n",
        "history = ann_model.fit(X_train,y_train,batch_size=32,epochs=5,shuffle=True)"
      ],
      "metadata": {
        "id": "92v-KcKNulZa",
        "colab": {
          "base_uri": "https://localhost:8080/"
        },
        "outputId": "e2d52813-b577-48ed-850e-51781f13fd8f"
      },
      "execution_count": null,
      "outputs": [
        {
          "output_type": "stream",
          "name": "stdout",
          "text": [
            "Epoch 1/5\n",
            "123/123 [==============================] - 4s 4ms/step - loss: 3293.1396\n",
            "Epoch 2/5\n",
            "123/123 [==============================] - 1s 4ms/step - loss: 3305.2424\n",
            "Epoch 3/5\n",
            "123/123 [==============================] - 1s 4ms/step - loss: 3305.2422\n",
            "Epoch 4/5\n",
            "123/123 [==============================] - 1s 5ms/step - loss: 3305.2405\n",
            "Epoch 5/5\n",
            "123/123 [==============================] - 1s 5ms/step - loss: 3305.2422\n"
          ]
        }
      ]
    },
    {
      "cell_type": "code",
      "source": [
        "# Evaluating model performance\n",
        "training_loss = ann_model.evaluate(X_train,y_train,batch_size=32,verbose=0)\n",
        "\n",
        "print(f'Training Loss: ${np.sqrt(training_loss)}')"
      ],
      "metadata": {
        "id": "pOgR-7gMuz3P",
        "colab": {
          "base_uri": "https://localhost:8080/"
        },
        "outputId": "3223a6c0-9786-4e1a-933f-dbb98e30507f"
      },
      "execution_count": null,
      "outputs": [
        {
          "output_type": "stream",
          "name": "stdout",
          "text": [
            "Training Loss: $57.49122937525449\n"
          ]
        }
      ]
    },
    {
      "cell_type": "code",
      "source": [
        "# Evaluating model performance on the test set\n",
        "testing_loss = ann_model.evaluate(X_test,y_test,batch_size=32,verbose=0)\n",
        "print(f'Testing Loss: ${np.sqrt(testing_loss)}')"
      ],
      "metadata": {
        "id": "DxQsl2pku9_U",
        "colab": {
          "base_uri": "https://localhost:8080/"
        },
        "outputId": "0d5909f8-de64-4b8e-a631-35cd58db4070"
      },
      "execution_count": null,
      "outputs": [
        {
          "output_type": "stream",
          "name": "stdout",
          "text": [
            "Testing Loss: $57.82954985072511\n"
          ]
        }
      ]
    },
    {
      "cell_type": "markdown",
      "source": [
        "**Sequence Data**"
      ],
      "metadata": {
        "id": "7jvGZ-IawSwc"
      }
    },
    {
      "cell_type": "code",
      "source": [
        "raw_sequence_data_X = []\n",
        "raw_sequence_data_Y = []\n",
        "data_list = stock_history.drop(['Volume','Dividends','Stock Splits'],axis=1).values\n",
        "# Iterating through each example in the stock data\n",
        "for i in range(len(data_list)):\n",
        "  sequence = [[0]*4] * 30 # creating a list of ten zeros\n",
        "\n",
        "  # Checking if there are 10 days worth of past stock data\n",
        "  if i < 30:\n",
        "    for x in range(i):\n",
        "      sequence[x] = list(data_list[x])\n",
        "  else:\n",
        "    index = 0\n",
        "    for x in range(i-30,i):\n",
        "      sequence[index] = list(data_list[x])\n",
        "      index += 1\n",
        "  raw_sequence_data_X.append(sequence)\n",
        "  raw_sequence_data_Y.append(data_list[i][3])"
      ],
      "metadata": {
        "id": "t1gWgIa4vluM"
      },
      "execution_count": null,
      "outputs": []
    },
    {
      "cell_type": "code",
      "source": [
        "# Changing the lists into numpy arrays\n",
        "sequence_X = np.array(raw_sequence_data_X)\n",
        "sequence_Y = np.array(raw_sequence_data_Y)\n",
        "\n",
        "# Checking the shape\n",
        "sequence_X.shape"
      ],
      "metadata": {
        "id": "wr_BlKTbvyVL",
        "colab": {
          "base_uri": "https://localhost:8080/"
        },
        "outputId": "c4c2aac8-5d18-4c13-a245-97af9bdf4d53"
      },
      "execution_count": null,
      "outputs": [
        {
          "output_type": "execute_result",
          "data": {
            "text/plain": [
              "(4888, 30, 4)"
            ]
          },
          "metadata": {},
          "execution_count": 13
        }
      ]
    },
    {
      "cell_type": "code",
      "source": [
        "X_train, X_test, y_train, y_test = train_test_split(sequence_X,sequence_Y,test_size=0.2,random_state=42,shuffle=True)"
      ],
      "metadata": {
        "id": "j5WT13H2v6nN"
      },
      "execution_count": null,
      "outputs": []
    },
    {
      "cell_type": "code",
      "source": [
        "# Implementing RNN model\n",
        "rnn_model = Sequential()\n",
        "\n",
        "rnn_model.add(SimpleRNN(50,activation='tanh',bias_initializer='ones',return_sequences=False,input_shape=(X_train.shape[1],X_train.shape[2])))\n",
        "\n",
        "rnn_model.add(Dense(25,activation='relu',kernel_initializer='he_normal',bias_initializer='ones'))\n",
        "rnn_model.add(Dense(1,activation='relu',kernel_initializer='he_normal',bias_initializer='ones'))\n",
        "\n",
        "rnn_model.summary()"
      ],
      "metadata": {
        "id": "ftCCqCwmwdBG",
        "colab": {
          "base_uri": "https://localhost:8080/"
        },
        "outputId": "e379df72-ccad-4190-ffd2-510a244fd1ed"
      },
      "execution_count": null,
      "outputs": [
        {
          "output_type": "stream",
          "name": "stdout",
          "text": [
            "Model: \"sequential_1\"\n",
            "_________________________________________________________________\n",
            " Layer (type)                Output Shape              Param #   \n",
            "=================================================================\n",
            " simple_rnn (SimpleRNN)      (None, 50)                2750      \n",
            "                                                                 \n",
            " dense_4 (Dense)             (None, 25)                1275      \n",
            "                                                                 \n",
            " dense_5 (Dense)             (None, 1)                 26        \n",
            "                                                                 \n",
            "=================================================================\n",
            "Total params: 4051 (15.82 KB)\n",
            "Trainable params: 4051 (15.82 KB)\n",
            "Non-trainable params: 0 (0.00 Byte)\n",
            "_________________________________________________________________\n"
          ]
        }
      ]
    },
    {
      "cell_type": "markdown",
      "source": [
        "**Recurrent Neural Networks (RNN)**"
      ],
      "metadata": {
        "id": "uQPOK9ojwd0R"
      }
    },
    {
      "cell_type": "code",
      "source": [
        "# Training the model\n",
        "optimizer = keras.optimizers.SGD(learning_rate=0.001)\n",
        "loss_function = keras.losses.MeanSquaredError()\n",
        "rnn_model.compile(optimizer=optimizer,loss=loss_function)"
      ],
      "metadata": {
        "id": "39YA8KYNxwaP"
      },
      "execution_count": null,
      "outputs": []
    },
    {
      "cell_type": "code",
      "source": [
        "# Model training\n",
        "history = rnn_model.fit(X_train,y_train,batch_size=32,epochs=5,shuffle=True)"
      ],
      "metadata": {
        "id": "mS18WTq7xzPg",
        "colab": {
          "base_uri": "https://localhost:8080/"
        },
        "outputId": "12750b14-418f-485a-85ee-616e2db3bcc5"
      },
      "execution_count": null,
      "outputs": [
        {
          "output_type": "stream",
          "name": "stdout",
          "text": [
            "Epoch 1/5\n",
            "123/123 [==============================] - 3s 19ms/step - loss: 1613.3673\n",
            "Epoch 2/5\n",
            "123/123 [==============================] - 2s 20ms/step - loss: 1570.1179\n",
            "Epoch 3/5\n",
            "123/123 [==============================] - 3s 28ms/step - loss: 1572.0938\n",
            "Epoch 4/5\n",
            "123/123 [==============================] - 2s 19ms/step - loss: 1605.2174\n",
            "Epoch 5/5\n",
            "123/123 [==============================] - 2s 19ms/step - loss: 1578.3854\n"
          ]
        }
      ]
    },
    {
      "cell_type": "code",
      "source": [
        "# Evaluating model performance\n",
        "training_loss = rnn_model.evaluate(X_train,y_train,batch_size=32,verbose=0)\n",
        "print(f'Training Loss: ${np.sqrt(training_loss)}')"
      ],
      "metadata": {
        "id": "PFzppDQKx2He",
        "colab": {
          "base_uri": "https://localhost:8080/"
        },
        "outputId": "4452f870-906c-434c-b48f-8db2b9e8890f"
      },
      "execution_count": null,
      "outputs": [
        {
          "output_type": "stream",
          "name": "stdout",
          "text": [
            "Training Loss: $41.855216292110775\n"
          ]
        }
      ]
    },
    {
      "cell_type": "code",
      "source": [
        "# Evaluating model performance on test set\n",
        "testing_loss = rnn_model.evaluate(X_test,y_test,batch_size=32,verbose=0)\n",
        "print(f'Testing Loss: ${np.sqrt(testing_loss)}')"
      ],
      "metadata": {
        "id": "rlEvndIRx_Ny",
        "colab": {
          "base_uri": "https://localhost:8080/"
        },
        "outputId": "a9badfef-2608-46d3-c98c-98de17927eea"
      },
      "execution_count": null,
      "outputs": [
        {
          "output_type": "stream",
          "name": "stdout",
          "text": [
            "Testing Loss: $42.58924596738375\n"
          ]
        }
      ]
    },
    {
      "cell_type": "markdown",
      "source": [
        "**Gated Recurrent Unit (GRU)**"
      ],
      "metadata": {
        "id": "cVhLqHI-ybty"
      }
    },
    {
      "cell_type": "code",
      "source": [
        "# Building the GRU model\n",
        "gru_model = Sequential()\n",
        "gru_model.add(GRU(50,activation='tanh',bias_initializer='ones',return_sequences=False,input_shape=(X_train.shape[1],X_train.shape[2])))\n",
        "\n",
        "gru_model.add(Dense(25,activation='relu',kernel_initializer='he_normal',bias_initializer='ones'))\n",
        "gru_model.add(Dense(1,activation='relu',kernel_initializer='he_normal',bias_initializer='ones'))\n",
        "\n",
        "gru_model.summary()"
      ],
      "metadata": {
        "id": "Ls-phqPSyybV",
        "colab": {
          "base_uri": "https://localhost:8080/"
        },
        "outputId": "1ddda5fb-472b-461c-e78f-7d490e2b9a81"
      },
      "execution_count": null,
      "outputs": [
        {
          "output_type": "stream",
          "name": "stdout",
          "text": [
            "Model: \"sequential_2\"\n",
            "_________________________________________________________________\n",
            " Layer (type)                Output Shape              Param #   \n",
            "=================================================================\n",
            " gru (GRU)                   (None, 50)                8400      \n",
            "                                                                 \n",
            " dense_6 (Dense)             (None, 25)                1275      \n",
            "                                                                 \n",
            " dense_7 (Dense)             (None, 1)                 26        \n",
            "                                                                 \n",
            "=================================================================\n",
            "Total params: 9701 (37.89 KB)\n",
            "Trainable params: 9701 (37.89 KB)\n",
            "Non-trainable params: 0 (0.00 Byte)\n",
            "_________________________________________________________________\n"
          ]
        }
      ]
    },
    {
      "cell_type": "code",
      "source": [
        "# Training the model\n",
        "optimizer = keras.optimizers.SGD(learning_rate=0.001)\n",
        "loss_function = keras.losses.MeanSquaredError()\n",
        "gru_model.compile(optimizer=optimizer,loss=loss_function)"
      ],
      "metadata": {
        "id": "dCMFbEVyzEU6"
      },
      "execution_count": null,
      "outputs": []
    },
    {
      "cell_type": "code",
      "source": [
        "# Model training\n",
        "history = gru_model.fit(X_train,y_train,batch_size=32,epochs=5,shuffle=True)"
      ],
      "metadata": {
        "id": "61DcLAMOzHj6",
        "colab": {
          "base_uri": "https://localhost:8080/"
        },
        "outputId": "11298b63-6118-4e02-cbb2-33451dd415c6"
      },
      "execution_count": null,
      "outputs": [
        {
          "output_type": "stream",
          "name": "stdout",
          "text": [
            "Epoch 1/5\n",
            "123/123 [==============================] - 2s 5ms/step - loss: 3305.2417\n",
            "Epoch 2/5\n",
            "123/123 [==============================] - 1s 5ms/step - loss: 3305.2419\n",
            "Epoch 3/5\n",
            "123/123 [==============================] - 1s 5ms/step - loss: 3305.2412\n",
            "Epoch 4/5\n",
            "123/123 [==============================] - 1s 6ms/step - loss: 3305.2412\n",
            "Epoch 5/5\n",
            "123/123 [==============================] - 1s 6ms/step - loss: 3305.2415\n"
          ]
        }
      ]
    },
    {
      "cell_type": "code",
      "source": [
        "# Evaluating model performance\n",
        "training_loss = gru_model.evaluate(X_train,y_train,batch_size=32,verbose=0)\n",
        "print(f'Training Loss: ${np.sqrt(training_loss)}')"
      ],
      "metadata": {
        "id": "2vR9shWhzPmq",
        "colab": {
          "base_uri": "https://localhost:8080/"
        },
        "outputId": "696fb22d-b677-4b2f-c32f-3eb08188fbb0"
      },
      "execution_count": null,
      "outputs": [
        {
          "output_type": "stream",
          "name": "stdout",
          "text": [
            "Training Loss: $57.49122937525449\n"
          ]
        }
      ]
    },
    {
      "cell_type": "code",
      "source": [
        "# Evaluating model performance on test set\n",
        "testing_loss = gru_model.evaluate(X_test,y_test,batch_size=32,verbose=0)\n",
        "print(f'Testing Loss: ${np.sqrt(testing_loss)}')"
      ],
      "metadata": {
        "id": "VWKURbxQzTvF",
        "colab": {
          "base_uri": "https://localhost:8080/"
        },
        "outputId": "3e39d8be-e637-4924-a652-ecdbf0ec5720"
      },
      "execution_count": null,
      "outputs": [
        {
          "output_type": "stream",
          "name": "stdout",
          "text": [
            "Testing Loss: $57.82954985072511\n"
          ]
        }
      ]
    },
    {
      "cell_type": "markdown",
      "source": [
        "**Long Short Term Memory (LSTM)**"
      ],
      "metadata": {
        "id": "wi75WdOvzcZb"
      }
    },
    {
      "cell_type": "code",
      "source": [
        "# Building the LSTM model\n",
        "lstm_model = Sequential()\n",
        "lstm_model.add(LSTM(30,activation='tanh',recurrent_activation='sigmoid',bias_initializer='ones',return_sequences=False,input_shape=(X_train.shape[1],X_train.shape[2])))\n",
        "\n",
        "lstm_model.add(Dense(25,activation='relu',kernel_initializer='he_normal',bias_initializer='ones'))\n",
        "lstm_model.add(Dense(1,activation='relu',kernel_initializer='he_normal',bias_initializer='ones'))\n",
        "\n",
        "lstm_model.summary()"
      ],
      "metadata": {
        "id": "gAVdB_3QzdBw",
        "colab": {
          "base_uri": "https://localhost:8080/"
        },
        "outputId": "75db2e2d-8fea-4d1b-b151-2b384f7e041d"
      },
      "execution_count": null,
      "outputs": [
        {
          "output_type": "stream",
          "name": "stdout",
          "text": [
            "Model: \"sequential_3\"\n",
            "_________________________________________________________________\n",
            " Layer (type)                Output Shape              Param #   \n",
            "=================================================================\n",
            " lstm (LSTM)                 (None, 30)                4200      \n",
            "                                                                 \n",
            " dense_8 (Dense)             (None, 25)                775       \n",
            "                                                                 \n",
            " dense_9 (Dense)             (None, 1)                 26        \n",
            "                                                                 \n",
            "=================================================================\n",
            "Total params: 5001 (19.54 KB)\n",
            "Trainable params: 5001 (19.54 KB)\n",
            "Non-trainable params: 0 (0.00 Byte)\n",
            "_________________________________________________________________\n"
          ]
        }
      ]
    },
    {
      "cell_type": "code",
      "source": [
        "# Training the model\n",
        "optimizer = keras.optimizers.SGD(learning_rate=0.001)\n",
        "loss_function = keras.losses.MeanSquaredError()\n",
        "lstm_model.compile(optimizer=optimizer,loss=loss_function)"
      ],
      "metadata": {
        "id": "TFotIv4bzhom"
      },
      "execution_count": null,
      "outputs": []
    },
    {
      "cell_type": "code",
      "source": [
        "# Model training\n",
        "history = lstm_model.fit(X_train,y_train,batch_size=32,epochs=5,shuffle=True)"
      ],
      "metadata": {
        "id": "D_eSQp-Nzjqs",
        "colab": {
          "base_uri": "https://localhost:8080/"
        },
        "outputId": "fb6ea926-40de-46e0-abe5-9e100c3538dc"
      },
      "execution_count": null,
      "outputs": [
        {
          "output_type": "stream",
          "name": "stdout",
          "text": [
            "Epoch 1/5\n",
            "123/123 [==============================] - 3s 5ms/step - loss: 1614.9349\n",
            "Epoch 2/5\n",
            "123/123 [==============================] - 1s 5ms/step - loss: 1548.8180\n",
            "Epoch 3/5\n",
            "123/123 [==============================] - 1s 5ms/step - loss: 1540.6145\n",
            "Epoch 4/5\n",
            "123/123 [==============================] - 1s 5ms/step - loss: 1564.1364\n",
            "Epoch 5/5\n",
            "123/123 [==============================] - 1s 5ms/step - loss: 1535.5112\n"
          ]
        }
      ]
    },
    {
      "cell_type": "code",
      "source": [
        "# Evaluating model performance\n",
        "training_loss = lstm_model.evaluate(X_train,y_train,batch_size=32,verbose=0)\n",
        "print(f'Training: ${np.sqrt(training_loss)}')"
      ],
      "metadata": {
        "id": "6pPP1BJDzlcA",
        "colab": {
          "base_uri": "https://localhost:8080/"
        },
        "outputId": "d432be2f-8833-49ae-99ad-fd555824dd54"
      },
      "execution_count": null,
      "outputs": [
        {
          "output_type": "stream",
          "name": "stdout",
          "text": [
            "Training Loss: $39.10576666334679\n"
          ]
        }
      ]
    },
    {
      "cell_type": "code",
      "source": [
        "# Evaluating model performance on test set\n",
        "testing_loss = lstm_model.evaluate(X_test,y_test,batch_size=32,verbose=0)\n",
        "print(f'Testing Loss: ${np.sqrt(testing_loss)}')"
      ],
      "metadata": {
        "id": "0CAUKgaZzm4e",
        "colab": {
          "base_uri": "https://localhost:8080/"
        },
        "outputId": "0cdee22b-d14e-4c7d-8eae-552eb37bbaa2"
      },
      "execution_count": null,
      "outputs": [
        {
          "output_type": "stream",
          "name": "stdout",
          "text": [
            "Testing Loss: $40.014310184373414\n"
          ]
        }
      ]
    }
  ]
}
